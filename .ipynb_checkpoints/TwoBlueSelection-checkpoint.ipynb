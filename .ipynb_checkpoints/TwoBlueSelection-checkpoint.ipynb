{
 "cells": [
  {
   "cell_type": "code",
   "execution_count": 1,
   "metadata": {
    "collapsed": true
   },
   "outputs": [],
   "source": [
    "import random"
   ]
  },
  {
   "cell_type": "code",
   "execution_count": 2,
   "metadata": {
    "collapsed": false
   },
   "outputs": [
    {
     "name": "stdout",
     "output_type": "stream",
     "text": [
      "12\n"
     ]
    }
   ],
   "source": [
    "blue = 4\n",
    "red = 8\n",
    "total = blue + red\n",
    "print(total)"
   ]
  },
  {
   "cell_type": "code",
   "execution_count": 3,
   "metadata": {
    "collapsed": false
   },
   "outputs": [
    {
     "name": "stdout",
     "output_type": "stream",
     "text": [
      "39\n",
      "9\n",
      "0.09\n"
     ]
    }
   ],
   "source": [
    "blue = 4\n",
    "red = 8\n",
    "total = blue + red\n",
    "\n",
    "iterations = 100\n",
    "blue_count = 0\n",
    "red_count = 0\n",
    "\n",
    "double_blue_sel = 0\n",
    "\n",
    "for i in range(iterations):\n",
    "    if random.random() < blue / total:\n",
    "        blue_count += 1\n",
    "        if random.random() < (blue - 1) / (total - 1):\n",
    "            blue_count += 1\n",
    "            double_blue_sel += 1\n",
    "\n",
    "print(blue_count)\n",
    "print(double_blue_sel)\n",
    "print(double_blue_sel / iterations)"
   ]
  },
  {
   "cell_type": "code",
   "execution_count": 4,
   "metadata": {
    "collapsed": false
   },
   "outputs": [
    {
     "name": "stdout",
     "output_type": "stream",
     "text": [
      "Blue count: \n",
      "30\n",
      "Red count: \n",
      "114\n",
      "8\n",
      "0.08\n"
     ]
    }
   ],
   "source": [
    "blue = 4\n",
    "red = 8\n",
    "total = blue + red\n",
    "\n",
    "iterations = 100\n",
    "blue_count = 0\n",
    "red_count = 0\n",
    "\n",
    "double_blue_sel = 0\n",
    "double_red_sel = 0\n",
    "\n",
    "for i in range(iterations):\n",
    "    if random.random() < blue / total:\n",
    "        blue_count += 1\n",
    "        if random.random() < (blue - 1) / (total - 1):\n",
    "            blue_count += 1\n",
    "            double_blue_sel += 1\n",
    "        else:\n",
    "            red_count += 1\n",
    "    else:\n",
    "        red_count += 1\n",
    "        if random.random() < (blue) / (total - 1):\n",
    "            red_count += 1\n",
    "            double_red_sel += 1\n",
    "\n",
    "print(\"Blue count: \")\n",
    "print(blue_count)\n",
    "print(\"Red count: \")\n",
    "print(red_count)\n",
    "print(double_blue_sel)\n",
    "print(double_blue_sel / iterations)"
   ]
  },
  {
   "cell_type": "code",
   "execution_count": null,
   "metadata": {
    "collapsed": false
   },
   "outputs": [],
   "source": [
    "blue = 4\n",
    "red = 8\n",
    "total = blue + red\n",
    "\n",
    "iterations = 100\n",
    "blue_count = 0\n",
    "red_count = 0\n",
    "\n",
    "double_blue_sel = 0\n",
    "double_red_sel = 0\n",
    "\n",
    "for i in range(iterations):\n",
    "    draw = random.random()\n",
    "    if draw < blue / total:\n",
    "        blue_count += 1\n",
    "        if draw < (blue - 1) / (total - 1):\n",
    "            blue_count += 1\n",
    "            double_blue_sel += 1\n",
    "        else:\n",
    "            red_count += 1\n",
    "    else:\n",
    "        red_count += 1\n",
    "        if draw < (blue) / (total - 1):\n",
    "            red_count += 1\n",
    "            double_red_sel += 1\n",
    "\n",
    "print(\"Blue count: \")\n",
    "print(blue_count)\n",
    "print(\"Red count: \")\n",
    "print(red_count)\n",
    "print(double_blue_sel)\n",
    "print(double_blue_sel / iterations)"
   ]
  },
  {
   "cell_type": "code",
   "execution_count": 14,
   "metadata": {
    "collapsed": false
   },
   "outputs": [
    {
     "name": "stdout",
     "output_type": "stream",
     "text": [
      "Blue count: \n",
      "63\n",
      "Red count: \n",
      "137\n",
      "Double blue selections:\n",
      "8\n",
      "Double red selections:\n",
      "45\n",
      "Split selections:\n",
      "47\n",
      "0.08\n"
     ]
    }
   ],
   "source": [
    "blue = 4\n",
    "red = 8\n",
    "total = blue + red\n",
    "\n",
    "iterations = 100\n",
    "blue_count = 0\n",
    "red_count = 0\n",
    "\n",
    "double_blue_sel = 0\n",
    "double_red_sel = 0\n",
    "split_sel = 0\n",
    "for i in range(iterations):\n",
    "    draw1 = random.random()\n",
    "    if draw1 < blue / total:\n",
    "        blue_count += 1\n",
    "        draw2 = random.random()\n",
    "        if draw2 < (blue - 1) / (total - 1):\n",
    "            blue_count += 1\n",
    "            double_blue_sel += 1\n",
    "        else:\n",
    "            red_count += 1\n",
    "            split_sel += 1\n",
    "    else:\n",
    "        red_count += 1\n",
    "        draw2 = random.random()\n",
    "        if draw2 < (blue) / (total -1):\n",
    "            blue_count += 1\n",
    "            split_sel += 1\n",
    "        else:\n",
    "            red_count += 1\n",
    "            double_red_sel += 1\n",
    "\n",
    "print(\"Blue count: \")\n",
    "print(blue_count)\n",
    "print(\"Red count: \")\n",
    "print(red_count)\n",
    "print(\"Double blue selections:\")\n",
    "print(double_blue_sel)\n",
    "print(\"Double red selections:\")\n",
    "print(double_red_sel)\n",
    "print(\"Split selections:\")\n",
    "print(split_sel)\n",
    "print(double_blue_sel / iterations)"
   ]
  },
  {
   "cell_type": "code",
   "execution_count": 44,
   "metadata": {
    "collapsed": false
   },
   "outputs": [
    {
     "name": "stdout",
     "output_type": "stream",
     "text": [
      "Blue count: 62\n",
      "Red count: 138\n",
      "Double blue selections: 5\n",
      "Double red selections: 43\n",
      "Split selections: 52\n",
      "Red followed by blue: 27\n",
      "Blue followed by red: 25\n",
      "Odds of drawing a red followed by a blue: 0.27\n",
      "Odds of drawing a blue followed by a red: 0.25\n",
      "Odds of drawing two reds in a row: 0.43\n",
      "Odds of drawing two blues in a row: 0.05\n",
      "Odds of drawing two different colours: 0.52\n"
     ]
    }
   ],
   "source": [
    "blue = 4\n",
    "red = 8\n",
    "total = blue + red\n",
    "\n",
    "iterations = 100\n",
    "blue_count = 0\n",
    "red_count = 0\n",
    "\n",
    "double_blue_sel = 0\n",
    "double_red_sel = 0\n",
    "split_sel = 0\n",
    "red_followed_by_blue = 0\n",
    "blue_followed_by_red = 0\n",
    "\n",
    "for i in range(iterations):\n",
    "    draw1 = random.random()\n",
    "    if draw1 < blue / total:\n",
    "        blue_count += 1\n",
    "        draw2 = random.random()\n",
    "        if draw2 < ((blue - 1) / (total - 1)):\n",
    "            blue_count += 1\n",
    "            double_blue_sel += 1\n",
    "        else:\n",
    "            red_count += 1\n",
    "            split_sel += 1\n",
    "            blue_followed_by_red += 1\n",
    "    else:\n",
    "        red_count += 1\n",
    "        draw2 = random.random()\n",
    "        if draw2 < ((blue) / (total -1)):\n",
    "            blue_count += 1\n",
    "            split_sel += 1\n",
    "            red_followed_by_blue += 1\n",
    "        else:\n",
    "            red_count += 1\n",
    "            double_red_sel += 1\n",
    "\n",
    "print(\"Blue count:\", blue_count)\n",
    "print(\"Red count:\", red_count)\n",
    "print(\"Double blue selections:\", double_blue_sel)\n",
    "print(\"Double red selections:\", double_red_sel)\n",
    "print(\"Split selections:\", split_sel)\n",
    "print(\"Red followed by blue:\", red_followed_by_blue)\n",
    "print(\"Blue followed by red:\", blue_followed_by_red)\n",
    "print(\"Odds of drawing a red followed by a blue:\", (red_followed_by_blue / iterations))\n",
    "print(\"Odds of drawing a blue followed by a red:\", (blue_followed_by_red / iterations))\n",
    "print(\"Odds of drawing two reds in a row:\", (double_red_sel / iterations))\n",
    "print(\"Odds of drawing two blues in a row:\", (double_blue_sel / iterations))\n",
    "print(\"Odds of drawing two different colours:\", (split_sel / iterations))"
   ]
  }
 ],
 "metadata": {
  "kernelspec": {
   "display_name": "Python 3",
   "language": "python",
   "name": "python3"
  },
  "language_info": {
   "codemirror_mode": {
    "name": "ipython",
    "version": 3
   },
   "file_extension": ".py",
   "mimetype": "text/x-python",
   "name": "python",
   "nbconvert_exporter": "python",
   "pygments_lexer": "ipython3",
   "version": "3.5.1"
  }
 },
 "nbformat": 4,
 "nbformat_minor": 0
}
