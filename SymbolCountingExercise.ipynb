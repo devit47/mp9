{
 "cells": [
  {
   "cell_type": "code",
   "execution_count": 12,
   "metadata": {
    "collapsed": false
   },
   "outputs": [
    {
     "name": "stdout",
     "output_type": "stream",
     "text": [
      "['0', '!', '£', '$', '%', '^', '@', '?', '&', '#']\n"
     ]
    }
   ],
   "source": [
    "listOfSymbols = [\"0\",\"!\",\"£\",\"$\",\"%\",\"^\",\"@\",\"?\",\"&\",\"#\"]\n",
    "print(listOfSymbols)"
   ]
  },
  {
   "cell_type": "code",
   "execution_count": 15,
   "metadata": {
    "collapsed": false
   },
   "outputs": [
    {
     "name": "stdout",
     "output_type": "stream",
     "text": [
      "£\n"
     ]
    }
   ],
   "source": [
    "print(listOfSymbols[2])"
   ]
  },
  {
   "cell_type": "code",
   "execution_count": 18,
   "metadata": {
    "collapsed": false
   },
   "outputs": [
    {
     "name": "stdout",
     "output_type": "stream",
     "text": [
      "0\n",
      "!\n",
      "£\n",
      "$\n",
      "%\n",
      "^\n",
      "@\n",
      "?\n",
      "&\n",
      "#\n"
     ]
    }
   ],
   "source": [
    "for i in range(i):\n",
    "    print(listOfSymbols[i])"
   ]
  },
  {
   "cell_type": "code",
   "execution_count": 20,
   "metadata": {
    "collapsed": false
   },
   "outputs": [
    {
     "ename": "SyntaxError",
     "evalue": "invalid syntax (<ipython-input-20-7cf887a8f775>, line 4)",
     "output_type": "error",
     "traceback": [
      "\u001b[1;36m  File \u001b[1;32m\"<ipython-input-20-7cf887a8f775>\"\u001b[1;36m, line \u001b[1;32m4\u001b[0m\n\u001b[1;33m    elif:\u001b[0m\n\u001b[1;37m        ^\u001b[0m\n\u001b[1;31mSyntaxError\u001b[0m\u001b[1;31m:\u001b[0m invalid syntax\n"
     ]
    }
   ],
   "source": [
    "for i in range(20):\n",
    "    if(i < 10):\n",
    "        print(listOfSymbols[i])\n",
    "    elif:\n",
    "        print(listOfSymbols[i % 10])"
   ]
  },
  {
   "cell_type": "code",
   "execution_count": 25,
   "metadata": {
    "collapsed": false
   },
   "outputs": [
    {
     "name": "stdout",
     "output_type": "stream",
     "text": [
      "0\n",
      "!\n",
      "£\n",
      "$\n",
      "%\n",
      "^\n",
      "@\n",
      "?\n",
      "&\n",
      "#\n",
      "0\n",
      "!\n",
      "£\n",
      "$\n",
      "%\n",
      "^\n",
      "@\n",
      "?\n",
      "&\n",
      "#\n"
     ]
    }
   ],
   "source": [
    "for i in range(20):\n",
    "    if(i < 10):\n",
    "        print(listOfSymbols[i])\n",
    "    else:\n",
    "        print(listOfSymbols[i % 10])"
   ]
  },
  {
   "cell_type": "code",
   "execution_count": 29,
   "metadata": {
    "collapsed": false
   },
   "outputs": [
    {
     "name": "stdout",
     "output_type": "stream",
     "text": [
      "0\n",
      "!\n",
      "£\n",
      "$\n",
      "%\n",
      "^\n",
      "@\n",
      "?\n",
      "&\n",
      "#\n",
      "00\n",
      "0!\n",
      "0£\n",
      "0$\n",
      "0%\n",
      "0^\n",
      "0@\n",
      "0?\n",
      "0&\n",
      "0#\n"
     ]
    }
   ],
   "source": [
    "for i in range(20):\n",
    "    if(i < 10):\n",
    "        print(listOfSymbols[i])\n",
    "    else:\n",
    "        print(listOfSymbols[i % 1] + listOfSymbols[i % 10])"
   ]
  },
  {
   "cell_type": "code",
   "execution_count": 32,
   "metadata": {
    "collapsed": false
   },
   "outputs": [
    {
     "name": "stdout",
     "output_type": "stream",
     "text": [
      "0\n",
      "!\n",
      "£\n",
      "$\n",
      "%\n",
      "^\n",
      "@\n",
      "?\n",
      "&\n",
      "#\n"
     ]
    },
    {
     "ename": "TypeError",
     "evalue": "list indices must be integers or slices, not float",
     "output_type": "error",
     "traceback": [
      "\u001b[1;31m---------------------------------------------------------------------------\u001b[0m",
      "\u001b[1;31mTypeError\u001b[0m                                 Traceback (most recent call last)",
      "\u001b[1;32m<ipython-input-32-6380f001c3cf>\u001b[0m in \u001b[0;36m<module>\u001b[1;34m()\u001b[0m\n\u001b[0;32m      5\u001b[0m         \u001b[0mprint\u001b[0m\u001b[1;33m(\u001b[0m\u001b[0mlistOfSymbols\u001b[0m\u001b[1;33m[\u001b[0m\u001b[0mi\u001b[0m\u001b[1;33m]\u001b[0m\u001b[1;33m)\u001b[0m\u001b[1;33m\u001b[0m\u001b[0m\n\u001b[0;32m      6\u001b[0m     \u001b[1;32melse\u001b[0m\u001b[1;33m:\u001b[0m\u001b[1;33m\u001b[0m\u001b[0m\n\u001b[1;32m----> 7\u001b[1;33m         \u001b[0mprint\u001b[0m\u001b[1;33m(\u001b[0m\u001b[0mlistOfSymbols\u001b[0m\u001b[1;33m[\u001b[0m\u001b[0mi\u001b[0m \u001b[1;33m/\u001b[0m \u001b[1;36m10\u001b[0m\u001b[1;33m]\u001b[0m \u001b[1;33m+\u001b[0m \u001b[0mlistOfSymbols\u001b[0m\u001b[1;33m[\u001b[0m\u001b[0mi\u001b[0m \u001b[1;33m%\u001b[0m \u001b[1;36m10\u001b[0m\u001b[1;33m]\u001b[0m\u001b[1;33m)\u001b[0m\u001b[1;33m\u001b[0m\u001b[0m\n\u001b[0m",
      "\u001b[1;31mTypeError\u001b[0m: list indices must be integers or slices, not float"
     ]
    }
   ],
   "source": [
    "k = 1\n",
    "\n",
    "for i in range(100):\n",
    "    if(i < 10):\n",
    "        print(listOfSymbols[i])\n",
    "    else:\n",
    "        print(listOfSymbols[i / 10] + listOfSymbols[i % 10])"
   ]
  },
  {
   "cell_type": "code",
   "execution_count": 34,
   "metadata": {
    "collapsed": false
   },
   "outputs": [
    {
     "name": "stdout",
     "output_type": "stream",
     "text": [
      "0\n",
      "!\n",
      "£\n",
      "$\n",
      "%\n",
      "^\n",
      "@\n",
      "?\n",
      "&\n",
      "#\n",
      "!0\n",
      "!!\n",
      "!£\n",
      "!$\n",
      "!%\n",
      "!^\n",
      "!@\n",
      "!?\n",
      "!&\n",
      "!#\n",
      "£0\n",
      "£!\n",
      "££\n",
      "£$\n",
      "£%\n",
      "£^\n",
      "£@\n",
      "£?\n",
      "£&\n",
      "£#\n",
      "$0\n",
      "$!\n",
      "$£\n",
      "$$\n",
      "$%\n",
      "$^\n",
      "$@\n",
      "$?\n",
      "$&\n",
      "$#\n",
      "%0\n",
      "%!\n",
      "%£\n",
      "%$\n",
      "%%\n",
      "%^\n",
      "%@\n",
      "%?\n",
      "%&\n",
      "%#\n",
      "^0\n",
      "^!\n",
      "^£\n",
      "^$\n",
      "^%\n",
      "^^\n",
      "^@\n",
      "^?\n",
      "^&\n",
      "^#\n",
      "@0\n",
      "@!\n",
      "@£\n",
      "@$\n",
      "@%\n",
      "@^\n",
      "@@\n",
      "@?\n",
      "@&\n",
      "@#\n",
      "?0\n",
      "?!\n",
      "?£\n",
      "?$\n",
      "?%\n",
      "?^\n",
      "?@\n",
      "??\n",
      "?&\n",
      "?#\n",
      "&0\n",
      "&!\n",
      "&£\n",
      "&$\n",
      "&%\n",
      "&^\n",
      "&@\n",
      "&?\n",
      "&&\n",
      "&#\n",
      "#0\n",
      "#!\n",
      "#£\n",
      "#$\n",
      "#%\n",
      "#^\n",
      "#@\n",
      "#?\n",
      "#&\n",
      "##\n"
     ]
    }
   ],
   "source": [
    "for i in range(100):\n",
    "    if(i < 10):\n",
    "        print(listOfSymbols[i])\n",
    "    else:\n",
    "        print(listOfSymbols[i // 10] + listOfSymbols[i % 10])"
   ]
  },
  {
   "cell_type": "code",
   "execution_count": 36,
   "metadata": {
    "collapsed": false
   },
   "outputs": [
    {
     "name": "stdout",
     "output_type": "stream",
     "text": [
      "0\n",
      "!\n",
      "£\n",
      "$\n",
      "%\n",
      "^\n",
      "@\n",
      "?\n",
      "&\n",
      "#\n",
      "!0\n",
      "!!\n",
      "!£\n",
      "!$\n",
      "!%\n",
      "!^\n",
      "!@\n",
      "!?\n",
      "!&\n",
      "!#\n",
      "£0\n",
      "£!\n",
      "££\n",
      "£$\n",
      "£%\n",
      "£^\n",
      "£@\n",
      "£?\n",
      "£&\n",
      "£#\n",
      "$0\n",
      "$!\n",
      "$£\n",
      "$$\n",
      "$%\n",
      "$^\n",
      "$@\n",
      "$?\n",
      "$&\n",
      "$#\n",
      "%0\n",
      "%!\n",
      "%£\n",
      "%$\n",
      "%%\n",
      "%^\n",
      "%@\n",
      "%?\n",
      "%&\n",
      "%#\n",
      "^0\n",
      "^!\n",
      "^£\n",
      "^$\n",
      "^%\n",
      "^^\n",
      "^@\n",
      "^?\n",
      "^&\n",
      "^#\n",
      "@0\n",
      "@!\n",
      "@£\n",
      "@$\n",
      "@%\n",
      "@^\n",
      "@@\n",
      "@?\n",
      "@&\n",
      "@#\n",
      "?0\n",
      "?!\n",
      "?£\n",
      "?$\n",
      "?%\n",
      "?^\n",
      "?@\n",
      "??\n",
      "?&\n",
      "?#\n",
      "&0\n",
      "&!\n",
      "&£\n",
      "&$\n",
      "&%\n",
      "&^\n",
      "&@\n",
      "&?\n",
      "&&\n",
      "&#\n",
      "#0\n",
      "#!\n",
      "#£\n",
      "#$\n",
      "#%\n",
      "#^\n",
      "#@\n",
      "#?\n",
      "#&\n",
      "##\n"
     ]
    },
    {
     "ename": "IndexError",
     "evalue": "list index out of range",
     "output_type": "error",
     "traceback": [
      "\u001b[1;31m---------------------------------------------------------------------------\u001b[0m",
      "\u001b[1;31mIndexError\u001b[0m                                Traceback (most recent call last)",
      "\u001b[1;32m<ipython-input-36-6a91235a0275>\u001b[0m in \u001b[0;36m<module>\u001b[1;34m()\u001b[0m\n\u001b[0;32m      5\u001b[0m         \u001b[0mprint\u001b[0m\u001b[1;33m(\u001b[0m\u001b[0mlistOfSymbols\u001b[0m\u001b[1;33m[\u001b[0m\u001b[0mi\u001b[0m \u001b[1;33m//\u001b[0m \u001b[1;36m10\u001b[0m\u001b[1;33m]\u001b[0m \u001b[1;33m+\u001b[0m \u001b[0mlistOfSymbols\u001b[0m\u001b[1;33m[\u001b[0m\u001b[0mi\u001b[0m \u001b[1;33m%\u001b[0m \u001b[1;36m10\u001b[0m\u001b[1;33m]\u001b[0m\u001b[1;33m)\u001b[0m\u001b[1;33m\u001b[0m\u001b[0m\n\u001b[0;32m      6\u001b[0m     \u001b[1;32melse\u001b[0m\u001b[1;33m:\u001b[0m\u001b[1;33m\u001b[0m\u001b[0m\n\u001b[1;32m----> 7\u001b[1;33m         \u001b[0mprint\u001b[0m\u001b[1;33m(\u001b[0m\u001b[0mlistOfSymbols\u001b[0m\u001b[1;33m[\u001b[0m\u001b[0mi\u001b[0m \u001b[1;33m//\u001b[0m \u001b[1;36m100\u001b[0m\u001b[1;33m]\u001b[0m \u001b[1;33m+\u001b[0m \u001b[0mlistOfSymbols\u001b[0m\u001b[1;33m[\u001b[0m\u001b[0mi\u001b[0m \u001b[1;33m//\u001b[0m \u001b[1;36m10\u001b[0m\u001b[1;33m]\u001b[0m \u001b[1;33m+\u001b[0m \u001b[0mlistOfSymbols\u001b[0m\u001b[1;33m[\u001b[0m\u001b[0mi\u001b[0m \u001b[1;33m%\u001b[0m \u001b[1;36m10\u001b[0m\u001b[1;33m]\u001b[0m\u001b[1;33m)\u001b[0m\u001b[1;33m\u001b[0m\u001b[0m\n\u001b[0m",
      "\u001b[1;31mIndexError\u001b[0m: list index out of range"
     ]
    }
   ],
   "source": [
    "for i in range(1000):\n",
    "    if(i < 10):\n",
    "        print(listOfSymbols[i])\n",
    "    elif(i < 100):\n",
    "        print(listOfSymbols[i // 10] + listOfSymbols[i % 10])\n",
    "    else:\n",
    "        print(listOfSymbols[i // 100] + listOfSymbols[i // 10] + listOfSymbols[i % 10])"
   ]
  },
  {
   "cell_type": "code",
   "execution_count": 38,
   "metadata": {
    "collapsed": false
   },
   "outputs": [
    {
     "name": "stdout",
     "output_type": "stream",
     "text": [
      "0\n",
      "!\n",
      "£\n",
      "$\n",
      "%\n",
      "^\n",
      "@\n",
      "?\n",
      "&\n",
      "#\n",
      "!0\n",
      "!!\n",
      "!£\n",
      "!$\n",
      "!%\n",
      "!^\n",
      "!@\n",
      "!?\n",
      "!&\n",
      "!#\n",
      "£0\n",
      "£!\n",
      "££\n",
      "£$\n",
      "£%\n",
      "£^\n",
      "£@\n",
      "£?\n",
      "£&\n",
      "£#\n",
      "$0\n",
      "$!\n",
      "$£\n",
      "$$\n",
      "$%\n",
      "$^\n",
      "$@\n",
      "$?\n",
      "$&\n",
      "$#\n",
      "%0\n",
      "%!\n",
      "%£\n",
      "%$\n",
      "%%\n",
      "%^\n",
      "%@\n",
      "%?\n",
      "%&\n",
      "%#\n",
      "^0\n",
      "^!\n",
      "^£\n",
      "^$\n",
      "^%\n",
      "^^\n",
      "^@\n",
      "^?\n",
      "^&\n",
      "^#\n",
      "@0\n",
      "@!\n",
      "@£\n",
      "@$\n",
      "@%\n",
      "@^\n",
      "@@\n",
      "@?\n",
      "@&\n",
      "@#\n",
      "?0\n",
      "?!\n",
      "?£\n",
      "?$\n",
      "?%\n",
      "?^\n",
      "?@\n",
      "??\n",
      "?&\n",
      "?#\n",
      "&0\n",
      "&!\n",
      "&£\n",
      "&$\n",
      "&%\n",
      "&^\n",
      "&@\n",
      "&?\n",
      "&&\n",
      "&#\n",
      "#0\n",
      "#!\n",
      "#£\n",
      "#$\n",
      "#%\n",
      "#^\n",
      "#@\n",
      "#?\n",
      "#&\n",
      "##\n"
     ]
    },
    {
     "ename": "IndexError",
     "evalue": "list index out of range",
     "output_type": "error",
     "traceback": [
      "\u001b[1;31m---------------------------------------------------------------------------\u001b[0m",
      "\u001b[1;31mIndexError\u001b[0m                                Traceback (most recent call last)",
      "\u001b[1;32m<ipython-input-38-f89931079ba4>\u001b[0m in \u001b[0;36m<module>\u001b[1;34m()\u001b[0m\n\u001b[0;32m      5\u001b[0m         \u001b[0mprint\u001b[0m\u001b[1;33m(\u001b[0m\u001b[0mlistOfSymbols\u001b[0m\u001b[1;33m[\u001b[0m\u001b[0mi\u001b[0m \u001b[1;33m//\u001b[0m \u001b[1;36m10\u001b[0m\u001b[1;33m]\u001b[0m \u001b[1;33m+\u001b[0m \u001b[0mlistOfSymbols\u001b[0m\u001b[1;33m[\u001b[0m\u001b[0mi\u001b[0m \u001b[1;33m%\u001b[0m \u001b[1;36m10\u001b[0m\u001b[1;33m]\u001b[0m\u001b[1;33m)\u001b[0m\u001b[1;33m\u001b[0m\u001b[0m\n\u001b[0;32m      6\u001b[0m     \u001b[1;32melse\u001b[0m\u001b[1;33m:\u001b[0m\u001b[1;33m\u001b[0m\u001b[0m\n\u001b[1;32m----> 7\u001b[1;33m         \u001b[0mprint\u001b[0m\u001b[1;33m(\u001b[0m\u001b[0mlistOfSymbols\u001b[0m\u001b[1;33m[\u001b[0m\u001b[0mi\u001b[0m \u001b[1;33m//\u001b[0m \u001b[1;36m10\u001b[0m\u001b[1;33m]\u001b[0m \u001b[1;33m+\u001b[0m \u001b[0mlistOfSymbols\u001b[0m\u001b[1;33m[\u001b[0m\u001b[0mi\u001b[0m \u001b[1;33m//\u001b[0m \u001b[1;36m10\u001b[0m\u001b[1;33m]\u001b[0m \u001b[1;33m+\u001b[0m \u001b[0mlistOfSymbols\u001b[0m\u001b[1;33m[\u001b[0m\u001b[0mi\u001b[0m \u001b[1;33m%\u001b[0m \u001b[1;36m10\u001b[0m\u001b[1;33m]\u001b[0m\u001b[1;33m)\u001b[0m\u001b[1;33m\u001b[0m\u001b[0m\n\u001b[0m",
      "\u001b[1;31mIndexError\u001b[0m: list index out of range"
     ]
    }
   ],
   "source": [
    "for i in range(1000):\n",
    "    if(i < 10):\n",
    "        print(listOfSymbols[i])\n",
    "    elif(i < 100):\n",
    "        print(listOfSymbols[i // 10] + listOfSymbols[i % 10])\n",
    "    else:\n",
    "        print(listOfSymbols[i // 10] + listOfSymbols[i // 10] + listOfSymbols[i % 10])"
   ]
  }
 ],
 "metadata": {
  "kernelspec": {
   "display_name": "Python 3",
   "language": "python",
   "name": "python3"
  },
  "language_info": {
   "codemirror_mode": {
    "name": "ipython",
    "version": 3
   },
   "file_extension": ".py",
   "mimetype": "text/x-python",
   "name": "python",
   "nbconvert_exporter": "python",
   "pygments_lexer": "ipython3",
   "version": "3.5.1"
  }
 },
 "nbformat": 4,
 "nbformat_minor": 0
}
