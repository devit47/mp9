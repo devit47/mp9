{
 "cells": [
  {
   "cell_type": "code",
   "execution_count": null,
   "metadata": {
    "collapsed": false
   },
   "outputs": [],
   "source": [
    "listOfSymbols = [\"0\",\"!\",\"£\",\"$\",\"%\",\"^\",\"@\",\"?\",\"&\",\"#\"]\n",
    "print(listOfSymbols)"
   ]
  },
  {
   "cell_type": "code",
   "execution_count": null,
   "metadata": {
    "collapsed": false
   },
   "outputs": [],
   "source": [
    "print(listOfSymbols[2])"
   ]
  },
  {
   "cell_type": "code",
   "execution_count": null,
   "metadata": {
    "collapsed": false
   },
   "outputs": [],
   "source": [
    "for i in range(i):\n",
    "    print(listOfSymbols[i])"
   ]
  },
  {
   "cell_type": "code",
   "execution_count": null,
   "metadata": {
    "collapsed": false
   },
   "outputs": [],
   "source": [
    "for i in range(20):\n",
    "    if(i < 10):\n",
    "        print(listOfSymbols[i])\n",
    "    elif:\n",
    "        print(listOfSymbols[i % 10])"
   ]
  },
  {
   "cell_type": "code",
   "execution_count": null,
   "metadata": {
    "collapsed": false
   },
   "outputs": [],
   "source": [
    "for i in range(20):\n",
    "    if(i < 10):\n",
    "        print(listOfSymbols[i])\n",
    "    else:\n",
    "        print(listOfSymbols[i % 10])"
   ]
  },
  {
   "cell_type": "code",
   "execution_count": null,
   "metadata": {
    "collapsed": false
   },
   "outputs": [],
   "source": [
    "for i in range(20):\n",
    "    if(i < 10):\n",
    "        print(listOfSymbols[i])\n",
    "    else:\n",
    "        print(listOfSymbols[i % 1] + listOfSymbols[i % 10])"
   ]
  },
  {
   "cell_type": "code",
   "execution_count": null,
   "metadata": {
    "collapsed": false
   },
   "outputs": [],
   "source": [
    "k = 1\n",
    "\n",
    "for i in range(100):\n",
    "    if(i < 10):\n",
    "        print(listOfSymbols[i])\n",
    "    else:\n",
    "        print(listOfSymbols[i / 10] + listOfSymbols[i % 10])"
   ]
  },
  {
   "cell_type": "code",
   "execution_count": null,
   "metadata": {
    "collapsed": false
   },
   "outputs": [],
   "source": [
    "for i in range(100):\n",
    "    if(i < 10):\n",
    "        print(listOfSymbols[i])\n",
    "    else:\n",
    "        print(listOfSymbols[i // 10] + listOfSymbols[i % 10])"
   ]
  },
  {
   "cell_type": "code",
   "execution_count": null,
   "metadata": {
    "collapsed": false
   },
   "outputs": [],
   "source": [
    "for i in range(1000):\n",
    "    if(i < 10):\n",
    "        print(listOfSymbols[i])\n",
    "    elif(i < 100):\n",
    "        print(listOfSymbols[i // 10] + listOfSymbols[i % 10])\n",
    "    else:\n",
    "        print(listOfSymbols[i // 100] + listOfSymbols[i // 10] + listOfSymbols[i % 10])"
   ]
  },
  {
   "cell_type": "code",
   "execution_count": null,
   "metadata": {
    "collapsed": false
   },
   "outputs": [],
   "source": [
    "for i in range(1000):\n",
    "    if(i < 10):\n",
    "        print(listOfSymbols[i])\n",
    "    elif(i < 100):\n",
    "        print(listOfSymbols[i // 10] + listOfSymbols[i % 10])\n",
    "    else:\n",
    "        print(listOfSymbols[i // 10] + listOfSymbols[i // 10] + listOfSymbols[i % 10])"
   ]
  },
  {
   "cell_type": "code",
   "execution_count": null,
   "metadata": {
    "collapsed": true
   },
   "outputs": [],
   "source": [
    "lottolist = [1,2,3,4]"
   ]
  },
  {
   "cell_type": "code",
   "execution_count": null,
   "metadata": {
    "collapsed": false
   },
   "outputs": [],
   "source": [
    "type(lottolist)"
   ]
  },
  {
   "cell_type": "code",
   "execution_count": null,
   "metadata": {
    "collapsed": true
   },
   "outputs": [],
   "source": [
    "lottolist.append(1)"
   ]
  },
  {
   "cell_type": "code",
   "execution_count": null,
   "metadata": {
    "collapsed": false
   },
   "outputs": [],
   "source": [
    "lottolist"
   ]
  },
  {
   "cell_type": "code",
   "execution_count": 1,
   "metadata": {
    "collapsed": true
   },
   "outputs": [],
   "source": [
    "curr = 99\n",
    "if curr + 1 % 10 == 0:\n",
    "    print(\"You must carry a 1\")"
   ]
  },
  {
   "cell_type": "code",
   "execution_count": 3,
   "metadata": {
    "collapsed": true
   },
   "outputs": [],
   "source": [
    "symbolsList = ['0','1','2','3','4','5','6','7','8','9']"
   ]
  },
  {
   "cell_type": "code",
   "execution_count": 5,
   "metadata": {
    "collapsed": false
   },
   "outputs": [
    {
     "data": {
      "text/plain": [
       "['1', '0', '0']"
      ]
     },
     "execution_count": 5,
     "metadata": {},
     "output_type": "execute_result"
    }
   ],
   "source": [
    "numList = ['9','9','9']\n",
    "result = ['1']\n",
    "\n",
    "for i in range(1, len(numList)):\n",
    "    result.append('0')\n",
    "\n",
    "result"
   ]
  },
  {
   "cell_type": "code",
   "execution_count": 6,
   "metadata": {
    "collapsed": false
   },
   "outputs": [
    {
     "data": {
      "text/plain": [
       "['1', '0', '0', '0']"
      ]
     },
     "execution_count": 6,
     "metadata": {},
     "output_type": "execute_result"
    }
   ],
   "source": [
    "numList = ['9','9','9']\n",
    "result = ['1']\n",
    "\n",
    "for i in range(len(numList)):\n",
    "    result.append('0')\n",
    "\n",
    "result"
   ]
  }
 ],
 "metadata": {
  "kernelspec": {
   "display_name": "Python 3",
   "language": "python",
   "name": "python3"
  },
  "language_info": {
   "codemirror_mode": {
    "name": "ipython",
    "version": 3
   },
   "file_extension": ".py",
   "mimetype": "text/x-python",
   "name": "python",
   "nbconvert_exporter": "python",
   "pygments_lexer": "ipython3",
   "version": "3.5.1"
  }
 },
 "nbformat": 4,
 "nbformat_minor": 0
}
