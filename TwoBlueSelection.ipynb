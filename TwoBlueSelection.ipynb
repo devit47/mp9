{
 "cells": [
  {
   "cell_type": "code",
   "execution_count": 2,
   "metadata": {
    "collapsed": true
   },
   "outputs": [],
   "source": [
    "import random"
   ]
  },
  {
   "cell_type": "code",
   "execution_count": 3,
   "metadata": {
    "collapsed": false
   },
   "outputs": [
    {
     "name": "stdout",
     "output_type": "stream",
     "text": [
      "12\n"
     ]
    }
   ],
   "source": [
    "blue = 4\n",
    "red = 8\n",
    "total = blue + red\n",
    "print(total)"
   ]
  },
  {
   "cell_type": "code",
   "execution_count": 16,
   "metadata": {
    "collapsed": false
   },
   "outputs": [
    {
     "name": "stdout",
     "output_type": "stream",
     "text": [
      "43\n",
      "9\n",
      "0.09\n"
     ]
    }
   ],
   "source": [
    "blue = 4\n",
    "red = 8\n",
    "total = blue + red\n",
    "\n",
    "iterations = 100\n",
    "blue_count = 0\n",
    "red_count = 0\n",
    "\n",
    "double_blue_sel = 0\n",
    "\n",
    "for i in range(iterations):\n",
    "    if random.random() < blue / total:\n",
    "        blue_count += 1\n",
    "        if random.random() < (blue - 1) / (total - 1):\n",
    "            blue_count += 1\n",
    "            double_blue_sel += 1\n",
    "\n",
    "print(blue_count)\n",
    "print(double_blue_sel)\n",
    "print(double_blue_sel / iterations)"
   ]
  },
  {
   "cell_type": "code",
   "execution_count": 21,
   "metadata": {
    "collapsed": false
   },
   "outputs": [
    {
     "name": "stdout",
     "output_type": "stream",
     "text": [
      "Blue count: \n",
      "38\n",
      "Red count: \n",
      "119\n",
      "9\n",
      "0.09\n"
     ]
    }
   ],
   "source": [
    "blue = 4\n",
    "red = 8\n",
    "total = blue + red\n",
    "\n",
    "iterations = 100\n",
    "blue_count = 0\n",
    "red_count = 0\n",
    "\n",
    "double_blue_sel = 0\n",
    "double_red_sel = 0\n",
    "\n",
    "for i in range(iterations):\n",
    "    if random.random() < blue / total:\n",
    "        blue_count += 1\n",
    "        if random.random() < (blue - 1) / (total - 1):\n",
    "            blue_count += 1\n",
    "            double_blue_sel += 1\n",
    "        else:\n",
    "            red_count += 1\n",
    "    else:\n",
    "        red_count += 1\n",
    "        if random.random() < (blue) / (total - 1):\n",
    "            red_count += 1\n",
    "            double_red_sel += 1\n",
    "\n",
    "print(\"Blue count: \")\n",
    "print(blue_count)\n",
    "print(\"Red count: \")\n",
    "print(red_count)\n",
    "print(double_blue_sel)\n",
    "print(double_blue_sel / iterations)"
   ]
  },
  {
   "cell_type": "code",
   "execution_count": 22,
   "metadata": {
    "collapsed": false
   },
   "outputs": [
    {
     "name": "stdout",
     "output_type": "stream",
     "text": [
      "Blue count: \n",
      "58\n",
      "Red count: \n",
      "75\n",
      "27\n",
      "0.27\n"
     ]
    }
   ],
   "source": [
    "blue = 4\n",
    "red = 8\n",
    "total = blue + red\n",
    "\n",
    "iterations = 100\n",
    "blue_count = 0\n",
    "red_count = 0\n",
    "\n",
    "double_blue_sel = 0\n",
    "double_red_sel = 0\n",
    "\n",
    "for i in range(iterations):\n",
    "    draw = random.random()\n",
    "    if draw < blue / total:\n",
    "        blue_count += 1\n",
    "        if draw < (blue - 1) / (total - 1):\n",
    "            blue_count += 1\n",
    "            double_blue_sel += 1\n",
    "        else:\n",
    "            red_count += 1\n",
    "    else:\n",
    "        red_count += 1\n",
    "        if draw < (blue) / (total - 1):\n",
    "            red_count += 1\n",
    "            double_red_sel += 1\n",
    "\n",
    "print(\"Blue count: \")\n",
    "print(blue_count)\n",
    "print(\"Red count: \")\n",
    "print(red_count)\n",
    "print(double_blue_sel)\n",
    "print(double_blue_sel / iterations)"
   ]
  }
 ],
 "metadata": {
  "kernelspec": {
   "display_name": "Python 3",
   "language": "python",
   "name": "python3"
  },
  "language_info": {
   "codemirror_mode": {
    "name": "ipython",
    "version": 3
   },
   "file_extension": ".py",
   "mimetype": "text/x-python",
   "name": "python",
   "nbconvert_exporter": "python",
   "pygments_lexer": "ipython3",
   "version": "3.5.1"
  }
 },
 "nbformat": 4,
 "nbformat_minor": 0
}
