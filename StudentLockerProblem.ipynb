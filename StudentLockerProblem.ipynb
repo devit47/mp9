{
 "cells": [
  {
   "cell_type": "code",
<<<<<<< HEAD
   "execution_count": 1,
   "metadata": {
    "collapsed": false
   },
   "outputs": [
    {
     "name": "stdout",
     "output_type": "stream",
     "text": [
      "Flipping door 1\n",
      "Flipping door 2\n",
      "Flipping door 3\n",
      "Flipping door 4\n",
      "Flipping door 5\n",
      "Flipping door 6\n",
      "Flipping door 7\n",
      "Flipping door 8\n",
      "Flipping door 9\n",
      "Flipping door 10\n",
      "\n",
      "Flipping door 2\n",
      "Flipping door 4\n",
      "Flipping door 6\n",
      "Flipping door 8\n",
      "Flipping door 10\n",
      "\n",
      "Flipping door 3\n",
      "Flipping door 6\n",
      "Flipping door 9\n",
      "\n",
      "Flipping door 4\n",
      "Flipping door 8\n",
      "\n",
      "Flipping door 5\n",
      "Flipping door 10\n",
      "\n",
      "Flipping door 6\n",
      "\n",
      "Flipping door 7\n",
      "\n",
      "Flipping door 8\n",
      "\n",
      "Flipping door 9\n",
      "\n",
      "Flipping door 10\n",
      "\n"
     ]
    }
   ],
   "source": [
    "doors = [num for num in range(1, 11)]\n",
    "def flip(n):\n",
    "    print(\"Flipping door\", str(n))\n",
    "\n",
    "for student in range(1, 11):\n",
    "    for door in range(1, 11):\n",
    "        if student * door < 11:\n",
    "            flip(student * door)\n",
    "    print()"
   ]
  },
  {
   "cell_type": "code",
   "execution_count": 4,
   "metadata": {
    "collapsed": false
   },
   "outputs": [
    {
     "name": "stdout",
     "output_type": "stream",
     "text": [
      "0\n",
      "1\n",
      "2\n",
      "3\n",
      "4\n",
      "5\n",
      "6\n",
      "7\n",
      "8\n",
      "9\n",
      "\n",
      "1\n",
      "3\n",
      "5\n",
      "7\n",
      "9\n",
      "\n",
      "2\n",
      "5\n",
      "8\n",
      "\n",
      "3\n",
      "7\n",
      "\n",
      "4\n",
      "9\n",
      "\n",
      "5\n",
      "\n",
      "6\n",
      "\n",
      "7\n",
      "\n",
      "8\n",
      "\n",
      "9\n",
      "\n"
     ]
    }
   ],
   "source": [
    "doors = [num for num in range(10)]\n",
    "\n",
    "def flip(n):\n",
    "    print(n - 1)\n",
    "\n",
    "for student in range(10):\n",
    "    for door in range(10):\n",
    "        if (student + 1) * (door + 1) <= 10:\n",
    "            flip((student + 1) * (door + 1))\n",
    "    print()"
   ]
  },
  {
   "cell_type": "code",
   "execution_count": 7,
   "metadata": {
    "collapsed": false
   },
   "outputs": [
    {
     "name": "stdout",
     "output_type": "stream",
     "text": [
      "[1, 1, 1, 1, 1, 1, 1, 1, 1, 1]\n",
      "[1, 1, 1, 1, 1, 1, 1, 1, 1, 1]\n",
      "[1, 1, 1, 1, 1, 1, 1, 1, 1, 1]\n",
      "[1, 1, 1, 1, 1, 1, 1, 1, 1, 1]\n",
      "[1, 1, 1, 1, 1, 1, 1, 1, 1, 1]\n",
      "[1, 1, 1, 1, 1, 1, 1, 1, 1, 1]\n",
      "[1, 1, 1, 1, 1, 1, 1, 1, 1, 1]\n",
      "[1, 1, 1, 1, 1, 1, 1, 1, 1, 1]\n",
      "[1, 1, 1, 1, 1, 1, 1, 1, 1, 1]\n",
      "[1, 1, 1, 1, 1, 1, 1, 1, 1, 1]\n"
     ]
    }
   ],
   "source": [
    "doors = [num for num in range(10)]\n",
    "\n",
    "def flip(n):\n",
    "    if doors[n - 1] == 1:\n",
    "        doors[n - 1] == 0\n",
    "    else:\n",
    "        doors[n - 1] = 1\n",
    "\n",
    "for student in range(10):\n",
    "    for door in range(10):\n",
    "        if (student + 1) * (door + 1) <= 10:\n",
    "            flip((student + 1) * (door + 1))\n",
    "    print(doors)"
=======
   "execution_count": null,
   "metadata": {
    "collapsed": true
   },
   "outputs": [],
   "source": [
    "iterations = 10\n",
    "door = 1\n",
    "closedDoor = 1\n",
    "openDoor = 0\n",
    "student = 1\n",
    "\n",
    "for i in range(iterations):\n",
    "    door\n",
    "    "
>>>>>>> 38d3f85f71abd20962fb97b1165569cbb8866257
   ]
  }
 ],
 "metadata": {
  "kernelspec": {
   "display_name": "Python 3",
   "language": "python",
   "name": "python3"
  },
  "language_info": {
   "codemirror_mode": {
    "name": "ipython",
    "version": 3
   },
   "file_extension": ".py",
   "mimetype": "text/x-python",
   "name": "python",
   "nbconvert_exporter": "python",
   "pygments_lexer": "ipython3",
   "version": "3.5.1"
  }
 },
 "nbformat": 4,
 "nbformat_minor": 0
}
